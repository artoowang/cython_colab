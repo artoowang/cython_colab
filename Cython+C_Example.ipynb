{
  "nbformat": 4,
  "nbformat_minor": 0,
  "metadata": {
    "colab": {
      "name": "Cython+C Example",
      "provenance": [],
      "collapsed_sections": [
        "BKh2p3vMYoax",
        "tqEJLNykYg_f"
      ],
      "toc_visible": true,
      "authorship_tag": "ABX9TyM+j9HAIW3nv8SFMpRf14br",
      "include_colab_link": true
    },
    "kernelspec": {
      "name": "python3",
      "display_name": "Python 3"
    },
    "language_info": {
      "name": "python"
    }
  },
  "cells": [
    {
      "cell_type": "markdown",
      "metadata": {
        "id": "view-in-github",
        "colab_type": "text"
      },
      "source": [
        "<a href=\"https://colab.research.google.com/github/artoowang/cython_colab/blob/main/Cython%2BC_Example.ipynb\" target=\"_parent\"><img src=\"https://colab.research.google.com/assets/colab-badge.svg\" alt=\"Open In Colab\"/></a>"
      ]
    },
    {
      "cell_type": "markdown",
      "metadata": {
        "id": "qON-jHOOxVhF"
      },
      "source": [
        "# Setup"
      ]
    },
    {
      "cell_type": "code",
      "metadata": {
        "colab": {
          "base_uri": "https://localhost:8080/"
        },
        "id": "HxUAGvG7xYmv",
        "outputId": "6bb0d25f-b24c-495e-f45e-30e525379601"
      },
      "source": [
        "%pip install git+https://github.com/artoowang/cython_colab.git\n",
        "import cython_colab"
      ],
      "execution_count": 1,
      "outputs": [
        {
          "output_type": "stream",
          "name": "stdout",
          "text": [
            "Collecting git+https://github.com/artoowang/cython_colab.git\n",
            "  Cloning https://github.com/artoowang/cython_colab.git to /tmp/pip-req-build-ccyy1y45\n",
            "  Running command git clone -q https://github.com/artoowang/cython_colab.git /tmp/pip-req-build-ccyy1y45\n",
            "Building wheels for collected packages: cython-colab\n",
            "  Building wheel for cython-colab (setup.py) ... \u001b[?25l\u001b[?25hdone\n",
            "  Created wheel for cython-colab: filename=cython_colab-0.1-py3-none-any.whl size=15328 sha256=442eb368e4ce7dfc8de28132cf013bf26c5146f16b120bd0692dbc04c5a85f0c\n",
            "  Stored in directory: /tmp/pip-ephem-wheel-cache-fyldjwbj/wheels/b8/34/21/093444b60cd46f3574266da48cf6757ff776a72fddc548f846\n",
            "Successfully built cython-colab\n",
            "Installing collected packages: cython-colab\n",
            "Successfully installed cython-colab-0.1\n"
          ]
        }
      ]
    },
    {
      "cell_type": "markdown",
      "metadata": {
        "id": "U5Oxe7FeYZ37"
      },
      "source": [
        "# Example"
      ]
    },
    {
      "cell_type": "markdown",
      "metadata": {
        "id": "AB3ixhLIWWsC"
      },
      "source": [
        "### Cython setup"
      ]
    },
    {
      "cell_type": "code",
      "metadata": {
        "colab": {
          "base_uri": "https://localhost:8080/"
        },
        "id": "U3-PV-nmZay7",
        "outputId": "8f2d7892-5bdd-49c7-e55a-fef7ccee5843"
      },
      "source": [
        "%%file example_mod_setup.py\n",
        "\n",
        "from distutils.core import setup  \n",
        "from distutils.extension import Extension  \n",
        "from Cython.Build import cythonize\n",
        "import sys\n",
        "\n",
        "# It is important to make sure the extension name, .pyx file, and this setup\n",
        "# file names are all consistent with each other. E.g., to build a module called\n",
        "# 'example_mod', the extension name should be 'example_mod', .pyx file should be\n",
        "# example_mod.pyx, and the setup file should be example_mod_setup.py. These are\n",
        "# used in various places in the module reload utility methods.\n",
        "module_name = 'example_mod'\n",
        "\n",
        "# OpenMP setup is platform dependent.\n",
        "if sys.platform == 'darwin':\n",
        "  sys_dep_compile_args = [\n",
        "      '-Wno-unreachable-code',\n",
        "      '-Wp,-fopenmp',\n",
        "  ]\n",
        "  sys_dep_link_args = [\n",
        "      '-Wp,-fopenmp',\n",
        "      '-lomp',\n",
        "  ]\n",
        "else:\n",
        "  sys_dep_compile_args = ['-fopenmp']\n",
        "  sys_dep_link_args = ['-fopenmp']\n",
        "\n",
        "extensions = [\n",
        "  Extension(module_name, [\n",
        "                f'{module_name}.pyx',\n",
        "                'example.cc',\n",
        "            ],\n",
        "            language='c++',\n",
        "            extra_compile_args=[\n",
        "                '-std=c++17',\n",
        "            ] + sys_dep_compile_args,\n",
        "            extra_link_args=sys_dep_link_args,\n",
        "           ),\n",
        "]\n",
        "\n",
        "setup(ext_modules = cythonize(extensions, language_level='3'))"
      ],
      "execution_count": 2,
      "outputs": [
        {
          "output_type": "stream",
          "name": "stdout",
          "text": [
            "Writing example_mod_setup.py\n"
          ]
        }
      ]
    },
    {
      "cell_type": "markdown",
      "metadata": {
        "id": "6ddUp8cAfAkk"
      },
      "source": [
        "### C++ sources"
      ]
    },
    {
      "cell_type": "code",
      "metadata": {
        "colab": {
          "base_uri": "https://localhost:8080/"
        },
        "id": "BP-HjeOrYWyL",
        "outputId": "3f31d7eb-c3a9-40b7-fa6c-694813d8c9ba"
      },
      "source": [
        "%%file example.h\n",
        "\n",
        "#ifndef EXAMPLE_H\n",
        "#define EXAMPLE_H\n",
        "\n",
        "int AddOne(int val);\n",
        "\n",
        "#endif  // EXAMPLE_H"
      ],
      "execution_count": 3,
      "outputs": [
        {
          "output_type": "stream",
          "name": "stdout",
          "text": [
            "Writing example.h\n"
          ]
        }
      ]
    },
    {
      "cell_type": "code",
      "metadata": {
        "colab": {
          "base_uri": "https://localhost:8080/"
        },
        "id": "r7ZsyH2zaIff",
        "outputId": "e025c68f-0b3a-4372-9e18-d4c02fc79642"
      },
      "source": [
        "%%file example.cc\n",
        "\n",
        "#include \"example.h\"\n",
        "\n",
        "int AddOne(int val) {\n",
        "  return val + 1;\n",
        "}"
      ],
      "execution_count": 4,
      "outputs": [
        {
          "output_type": "stream",
          "name": "stdout",
          "text": [
            "Writing example.cc\n"
          ]
        }
      ]
    },
    {
      "cell_type": "markdown",
      "metadata": {
        "id": "Gdy2jQumjMz4"
      },
      "source": [
        "### Cython sources"
      ]
    },
    {
      "cell_type": "code",
      "metadata": {
        "colab": {
          "base_uri": "https://localhost:8080/"
        },
        "id": "0ZDYUBF1Y8lx",
        "outputId": "718438b1-87b9-44cb-f29a-d59979d32f39"
      },
      "source": [
        "%%file example_mod.pyx\n",
        "\n",
        "cimport cython\n",
        "from cpython cimport array\n",
        "\n",
        "from cython.parallel import prange\n",
        "\n",
        "\n",
        "cdef extern from 'example.h':\n",
        "  int AddOne(int val) nogil\n",
        "\n",
        "\n",
        "@cython.boundscheck(False)\n",
        "def run(Py_ssize_t length):\n",
        "  cdef array.array buffer = array.array('i', [i for i in range(length)])\n",
        "  cdef int[:] buffer_view = buffer\n",
        "  cdef Py_ssize_t i\n",
        "  for i in prange(length, nogil=True):\n",
        "    buffer_view[i] = AddOne(buffer_view[i])\n",
        "  return list(buffer)"
      ],
      "execution_count": 5,
      "outputs": [
        {
          "output_type": "stream",
          "name": "stdout",
          "text": [
            "Writing example_mod.pyx\n"
          ]
        }
      ]
    },
    {
      "cell_type": "markdown",
      "metadata": {
        "id": "PLH80_3e6VI1"
      },
      "source": [
        "### Build and test"
      ]
    },
    {
      "cell_type": "code",
      "metadata": {
        "colab": {
          "base_uri": "https://localhost:8080/"
        },
        "id": "CZqol1L_ZZNT",
        "outputId": "eeec6fa7-bfb7-4ef7-a1c9-d76b24ddafc0"
      },
      "source": [
        "example_mod = cython_colab.build_extension('example_mod')\n",
        "example_mod.run(10)"
      ],
      "execution_count": 6,
      "outputs": [
        {
          "output_type": "stream",
          "name": "stdout",
          "text": [
            "Build extension example_mod ...\n",
            "Next reload number: 1\n",
            "Compiling example_mod.pyx because it changed.\n",
            "[1/1] Cythonizing example_mod.pyx\n",
            "running build_ext\n",
            "building 'example_mod' extension\n",
            "creating build\n",
            "creating build/temp.linux-x86_64-3.7\n",
            "x86_64-linux-gnu-gcc -pthread -Wno-unused-result -Wsign-compare -DNDEBUG -g -fwrapv -O2 -Wall -g -fdebug-prefix-map=/build/python3.7-Y7dWVB/python3.7-3.7.12=. -fstack-protector-strong -Wformat -Werror=format-security -g -fdebug-prefix-map=/build/python3.7-Y7dWVB/python3.7-3.7.12=. -fstack-protector-strong -Wformat -Werror=format-security -Wdate-time -D_FORTIFY_SOURCE=2 -fPIC -I/usr/include/python3.7m -c example_mod.cpp -o build/temp.linux-x86_64-3.7/example_mod.o -std=c++17 -fopenmp\n",
            "x86_64-linux-gnu-gcc -pthread -Wno-unused-result -Wsign-compare -DNDEBUG -g -fwrapv -O2 -Wall -g -fdebug-prefix-map=/build/python3.7-Y7dWVB/python3.7-3.7.12=. -fstack-protector-strong -Wformat -Werror=format-security -g -fdebug-prefix-map=/build/python3.7-Y7dWVB/python3.7-3.7.12=. -fstack-protector-strong -Wformat -Werror=format-security -Wdate-time -D_FORTIFY_SOURCE=2 -fPIC -I/usr/include/python3.7m -c example.cc -o build/temp.linux-x86_64-3.7/example.o -std=c++17 -fopenmp\n",
            "x86_64-linux-gnu-g++ -pthread -shared -Wl,-O1 -Wl,-Bsymbolic-functions -Wl,-Bsymbolic-functions -Wl,-z,relro -Wl,-Bsymbolic-functions -Wl,-z,relro -g -fdebug-prefix-map=/build/python3.7-Y7dWVB/python3.7-3.7.12=. -fstack-protector-strong -Wformat -Werror=format-security -Wdate-time -D_FORTIFY_SOURCE=2 build/temp.linux-x86_64-3.7/example_mod.o build/temp.linux-x86_64-3.7/example.o -o /content/example_mod.cpython-37m-x86_64-linux-gnu.so -fopenmp\n",
            "Build exit code: 0\n",
            "Loading extension example_mod.reload1.so ...\n"
          ]
        },
        {
          "output_type": "execute_result",
          "data": {
            "text/plain": [
              "[1, 2, 3, 4, 5, 6, 7, 8, 9, 10]"
            ]
          },
          "metadata": {},
          "execution_count": 6
        }
      ]
    },
    {
      "cell_type": "code",
      "metadata": {
        "id": "Ve-PXznTXBZa"
      },
      "source": [
        ""
      ],
      "execution_count": null,
      "outputs": []
    }
  ]
}